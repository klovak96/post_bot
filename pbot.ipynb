{
 "cells": [
  {
   "cell_type": "code",
   "execution_count": 2,
   "metadata": {},
   "outputs": [],
   "source": [
    "import requests\n",
    "import telebot"
   ]
  },
  {
   "cell_type": "code",
   "execution_count": 21,
   "metadata": {},
   "outputs": [],
   "source": [
    "url = \"https://quotes15.p.rapidapi.com/quotes/random/\"\n",
    "\n",
    "querystring = {\"language_code\":\"ru\"}\n",
    "\n",
    "headers = {\n",
    "\t\"x-rapidapi-key\": \"d1a1ed4e83msh0689565852c58bbp1736e2jsn53f5625e3d88\",\n",
    "\t\"x-rapidapi-host\": \"quotes15.p.rapidapi.com\"\n",
    "}\n",
    "\n",
    "\n",
    "TOKEN = '7847696631:AAFczsdzDhyEWzf3Hgzl8jTGSFVaQ1agj5w'\n",
    "CHANNEL_ID = '@TestPost96'\n",
    "\n",
    "bot = telebot.TeleBot(TOKEN)"
   ]
  },
  {
   "cell_type": "code",
   "execution_count": 31,
   "metadata": {},
   "outputs": [
    {
     "name": "stdout",
     "output_type": "stream",
     "text": [
      "Сообщение отправлено в канал: Какая печальная эпоха, когда легче разбить атом, чем отказаться от предрассудков.\n"
     ]
    }
   ],
   "source": [
    "\n",
    "while True:\n",
    "    try:\n",
    "        response = requests.get(url, headers=headers, params=querystring)\n",
    "        new_post = response.json()\n",
    "        post_content = new_post['content']\n",
    "        if len(post_content) < 100:\n",
    "            break\n",
    "    except:\n",
    "        continue\n",
    "\n",
    "def post_to_channel(message):\n",
    "    bot.send_message(CHANNEL_ID, message)\n",
    "    print(f\"Сообщение отправлено в канал: {message}\")\n",
    "\n",
    "if __name__ == '__main__':\n",
    "    post_to_channel(post_content)\n"
   ]
  }
 ],
 "metadata": {
  "kernelspec": {
   "display_name": ".venv",
   "language": "python",
   "name": "python3"
  },
  "language_info": {
   "codemirror_mode": {
    "name": "ipython",
    "version": 3
   },
   "file_extension": ".py",
   "mimetype": "text/x-python",
   "name": "python",
   "nbconvert_exporter": "python",
   "pygments_lexer": "ipython3",
   "version": "3.13.0"
  }
 },
 "nbformat": 4,
 "nbformat_minor": 2
}
