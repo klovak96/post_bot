{
 "cells": [
  {
   "cell_type": "code",
   "execution_count": 1,
   "metadata": {},
   "outputs": [
    {
     "name": "stderr",
     "output_type": "stream",
     "text": [
      "/Users/klovak_stefan/post_bot/.venv/lib/python3.9/site-packages/urllib3/__init__.py:35: NotOpenSSLWarning: urllib3 v2 only supports OpenSSL 1.1.1+, currently the 'ssl' module is compiled with 'LibreSSL 2.8.3'. See: https://github.com/urllib3/urllib3/issues/3020\n",
      "  warnings.warn(\n"
     ]
    }
   ],
   "source": [
    "import requests\n",
    "import telebot\n"
   ]
  },
  {
   "cell_type": "code",
   "execution_count": 2,
   "metadata": {},
   "outputs": [],
   "source": [
    "url = \"https://quotes15.p.rapidapi.com/quotes/random/\"\n",
    "\n",
    "querystring = {\"language_code\":\"ru\"}\n",
    "\n",
    "headers = {\n",
    "\t\"x-rapidapi-key\": \"d1a1ed4e83msh0689565852c58bbp1736e2jsn53f5625e3d88\",\n",
    "\t\"x-rapidapi-host\": \"quotes15.p.rapidapi.com\"\n",
    "}\n",
    "\n",
    "\n",
    "TOKEN = '7847696631:AAFczsdzDhyEWzf3Hgzl8jTGSFVaQ1agj5w'\n",
    "CHANNEL_ID = '@TestPost96'\n",
    "\n",
    "bot = telebot.TeleBot(TOKEN)"
   ]
  },
  {
   "cell_type": "code",
   "execution_count": 7,
   "metadata": {},
   "outputs": [
    {
     "name": "stdout",
     "output_type": "stream",
     "text": [
      "Сообщение отправлено в канал: Опыт достаётся дорогой ценой, но дураков ничто иное не научит.\n"
     ]
    }
   ],
   "source": [
    "\n",
    "while True:\n",
    "    try:\n",
    "        response = requests.get(url, headers=headers, params=querystring)\n",
    "        new_post = response.json()\n",
    "        post_content = new_post['content']\n",
    "        if len(post_content) < 100:\n",
    "            break\n",
    "    except:\n",
    "        continue\n",
    "\n",
    "def post_to_channel(message):\n",
    "    bot.send_message(CHANNEL_ID, message)\n",
    "    print(f\"Сообщение отправлено в канал: {message}\")\n",
    "\n",
    "if __name__ == '__main__':\n",
    "    post_to_channel(post_content)\n"
   ]
  }
 ],
 "metadata": {
  "kernelspec": {
   "display_name": ".venv",
   "language": "python",
   "name": "python3"
  },
  "language_info": {
   "codemirror_mode": {
    "name": "ipython",
    "version": 3
   },
   "file_extension": ".py",
   "mimetype": "text/x-python",
   "name": "python",
   "nbconvert_exporter": "python",
   "pygments_lexer": "ipython3",
   "version": "3.9.6"
  }
 },
 "nbformat": 4,
 "nbformat_minor": 2
}
